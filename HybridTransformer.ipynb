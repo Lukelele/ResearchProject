{
 "cells": [
  {
   "cell_type": "code",
   "execution_count": 1,
   "metadata": {
    "ExecuteTime": {
     "end_time": "2025-02-15T14:17:32.221788Z",
     "start_time": "2025-02-15T14:17:32.217789Z"
    }
   },
   "outputs": [],
   "source": [
    "import torch\n",
    "from IPython.core.pylabtools import figsize\n",
    "from torchinfo import summary\n",
    "from tqdm import tqdm\n",
    "import TorchData\n",
    "import matplotlib.pyplot as plt"
   ]
  },
  {
   "cell_type": "code",
   "execution_count": 2,
   "metadata": {
    "ExecuteTime": {
     "end_time": "2025-02-15T14:20:55.298527Z",
     "start_time": "2025-02-15T14:20:55.290527Z"
    }
   },
   "outputs": [
    {
     "data": {
      "text/plain": [
       "<module 'TorchData' from '/home/lukelele/Documents/ResearchProject/TorchData/__init__.py'>"
      ]
     },
     "execution_count": 2,
     "metadata": {},
     "output_type": "execute_result"
    }
   ],
   "source": [
    "import importlib\n",
    "importlib.reload(TorchData)"
   ]
  },
  {
   "cell_type": "code",
   "execution_count": 3,
   "metadata": {
    "ExecuteTime": {
     "end_time": "2025-02-15T14:20:55.520678Z",
     "start_time": "2025-02-15T14:20:55.517791Z"
    }
   },
   "outputs": [],
   "source": [
    "device = \"cuda\" if torch.cuda.is_available() else \"mps\""
   ]
  },
  {
   "cell_type": "code",
   "execution_count": 15,
   "metadata": {
    "ExecuteTime": {
     "end_time": "2025-02-15T14:21:02.979225Z",
     "start_time": "2025-02-15T14:20:55.723744Z"
    }
   },
   "outputs": [],
   "source": [
    "train_dataset = TorchData.TORCHDataset(num_data=1, signal_count=25, noise_density=0.01)\n",
    "test_dataset = TorchData.TORCHDataset(num_data=1, signal_count=25, noise_density=0.01)\n",
    "\n",
    "train_dataloader = train_dataset.dataloader(batch_size=256, shuffle=True)\n",
    "test_dataloader = test_dataset.dataloader(batch_size=1, shuffle=False)"
   ]
  },
  {
   "cell_type": "code",
   "execution_count": 16,
   "metadata": {},
   "outputs": [
    {
     "name": "stderr",
     "output_type": "stream",
     "text": [
      "/home/lukelele/Documents/ResearchProject/TorchData/__init__.py:261: UserWarning: To copy construct from a tensor, it is recommended to use sourceTensor.clone().detach() or sourceTensor.clone().detach().requires_grad_(True), rather than torch.tensor(sourceTensor).\n",
      "  return torch.tensor(self.sn_time[idx]), torch.tensor(self.signal_time[idx])\n"
     ]
    },
    {
     "data": {
      "text/plain": [
       "<matplotlib.image.AxesImage at 0x7734499defc0>"
      ]
     },
     "execution_count": 16,
     "metadata": {},
     "output_type": "execute_result"
    },
    {
     "data": {
      "image/png": "[encoded data removed]",
      "text/plain": [
       "<Figure size 600x1000 with 2 Axes>"
      ]
     },
     "metadata": {},
     "output_type": "display_data"
    }
   ],
   "source": [
    "fig, ax = plt.subplots(1, 2, figsize=(6, 10))\n",
    "data = next(iter(train_dataloader))\n",
    "ax[0].imshow(data[0][0].squeeze(0))\n",
    "ax[1].imshow(data[1][0].squeeze(0))"
   ]
  },
  {
   "cell_type": "code",
   "execution_count": 22,
   "metadata": {},
   "outputs": [],
   "source": [
    "class LearnablePositionalEncoding(torch.nn.Module):\n",
    "    def __init__(self, embed_dim=64, max_seq_length=690):\n",
    "        super().__init__()\n",
    "        self.pos_embed = torch.nn.Parameter(\n",
    "            torch.zeros(1, max_seq_length, embed_dim),\n",
    "            requires_grad=True\n",
    "        )\n",
    "        torch.nn.init.normal_(self.pos_embed, std=0.02)  # Xavier-style initialization\n",
    "\n",
    "    def forward(self, x):\n",
    "        B, seq, embed_size = x.shape\n",
    "        return x + self.pos_embed[:, :seq]"
   ]
  },
  {
   "cell_type": "code",
   "execution_count": 23,
   "metadata": {
    "ExecuteTime": {
     "end_time": "2025-02-15T14:17:10.806402Z",
     "start_time": "2025-02-15T14:17:10.799352Z"
    }
   },
   "outputs": [],
   "source": [
    "class HybridTransformer(torch.nn.Module):\n",
    "    def __init__(self, embed_dim=64, num_heads=2, num_layers=2):\n",
    "        super().__init__()\n",
    "        \n",
    "        # CNN Encoder\n",
    "        self.encoder = torch.nn.Sequential(\n",
    "            torch.nn.Conv2d(1, 32, 3, padding=1),\n",
    "            torch.nn.BatchNorm2d(32),\n",
    "            torch.nn.GELU(),\n",
    "            torch.nn.MaxPool2d(2),\n",
    "            torch.nn.Conv2d(32, 64, 3, padding=1),\n",
    "            torch.nn.BatchNorm2d(64),\n",
    "            torch.nn.GELU(),\n",
    "            torch.nn.MaxPool2d(2)\n",
    "        )\n",
    "\n",
    "        # Transformer\n",
    "        self.transformer = torch.nn.TransformerEncoder(\n",
    "            torch.nn.TransformerEncoderLayer(\n",
    "                d_model=embed_dim,\n",
    "                nhead=num_heads,\n",
    "                dim_feedforward=4*embed_dim,\n",
    "                batch_first=True,\n",
    "                norm_first=True,  # Better stability\n",
    "                dropout=0.1\n",
    "            ),\n",
    "            num_layers=num_layers\n",
    "        )\n",
    "\n",
    "        \n",
    "        # CNN Decoder\n",
    "        self.decoder = torch.nn.Sequential(\n",
    "            torch.nn.ConvTranspose2d(64, 64, 3, padding=1),\n",
    "            torch.nn.BatchNorm2d(64),\n",
    "            torch.nn.GELU(),\n",
    "            torch.nn.ConvTranspose2d(64, 32, 3, stride=2, padding=1, output_padding=1),\n",
    "            torch.nn.BatchNorm2d(32),\n",
    "            torch.nn.GELU(),\n",
    "            torch.nn.ConvTranspose2d(32, 1, 3, stride=2, padding=1, output_padding=1),\n",
    "        )\n",
    "\n",
    "        # self.pos_embed = torch.nn.Parameter(torch.randn(1, 690, embed_dim))\n",
    "        self.learnable_position_embed = LearnablePositionalEncoding(embed_dim)\n",
    "        # self.fixed_pos_embed = PositionalEncoding(embed_dim)\n",
    "\n",
    "    def forward(self, x):\n",
    "        # Encoder\n",
    "        cnn_features = self.encoder(x)  # [B, 64, H/4, W/4]\n",
    "        \n",
    "        # Transformer processing\n",
    "        B, C, H, W = cnn_features.shape\n",
    "        x = cnn_features.flatten(2).permute(0, 2, 1)\n",
    "\n",
    "        # x = x + self.pos_embed[:, :H*W, :]\n",
    "        # x = self.fixed_pos_embed(x)\n",
    "        x = self.learnable_position_embed(x)\n",
    "        x = self.transformer(x)\n",
    "        \n",
    "        # Feature fusion\n",
    "        x = x.permute(0, 2, 1).view(B, C, H, W)\n",
    "        x = x + cnn_features  # Residual connection\n",
    "        \n",
    "        # Decoder pathway\n",
    "        return self.decoder(x)"
   ]
  },
  {
   "cell_type": "code",
   "execution_count": 24,
   "metadata": {
    "ExecuteTime": {
     "end_time": "2025-02-15T13:28:56.647419Z",
     "start_time": "2025-02-15T13:28:55.320575Z"
    }
   },
   "outputs": [
    {
     "name": "stderr",
     "output_type": "stream",
     "text": [
      "/home/lukelele/miniconda3/envs/torch/lib/python3.12/site-packages/torch/nn/modules/transformer.py:379: UserWarning: enable_nested_tensor is True, but self.use_nested_tensor is False because encoder_layer.norm_first was True\n",
      "  warnings.warn(\n"
     ]
    }
   ],
   "source": [
    "model = HybridTransformer().to(device)\n",
    "loss_function = torch.nn.MSELoss()\n",
    "optimiser = torch.optim.Adam(model.parameters(), lr=0.01)"
   ]
  },
  {
   "cell_type": "code",
   "execution_count": 25,
   "metadata": {
    "ExecuteTime": {
     "end_time": "2025-02-15T13:11:43.362228Z",
     "start_time": "2025-02-15T13:11:43.230228Z"
    }
   },
   "outputs": [
    {
     "data": {
      "text/plain": [
       "===============================================================================================\n",
       "Layer (type:depth-idx)                        Output Shape              Param #\n",
       "===============================================================================================\n",
       "HybridTransformer                             [16, 1, 120, 92]          --\n",
       "├─Sequential: 1-1                             [16, 64, 30, 23]          --\n",
       "│    └─Conv2d: 2-1                            [16, 32, 120, 92]         320\n",
       "│    └─BatchNorm2d: 2-2                       [16, 32, 120, 92]         64\n",
       "│    └─GELU: 2-3                              [16, 32, 120, 92]         --\n",
       "│    └─MaxPool2d: 2-4                         [16, 32, 60, 46]          --\n",
       "│    └─Conv2d: 2-5                            [16, 64, 60, 46]          18,496\n",
       "│    └─BatchNorm2d: 2-6                       [16, 64, 60, 46]          128\n",
       "│    └─GELU: 2-7                              [16, 64, 60, 46]          --\n",
       "│    └─MaxPool2d: 2-8                         [16, 64, 30, 23]          --\n",
       "├─LearnablePositionalEncoding: 1-2            [16, 690, 64]             44,160\n",
       "├─TransformerEncoder: 1-3                     [16, 690, 64]             --\n",
       "│    └─ModuleList: 2-9                        --                        --\n",
       "│    │    └─TransformerEncoderLayer: 3-1      [16, 690, 64]             49,984\n",
       "│    │    └─TransformerEncoderLayer: 3-2      [16, 690, 64]             49,984\n",
       "├─Sequential: 1-4                             [16, 1, 120, 92]          --\n",
       "│    └─ConvTranspose2d: 2-10                  [16, 64, 30, 23]          36,928\n",
       "│    └─BatchNorm2d: 2-11                      [16, 64, 30, 23]          128\n",
       "│    └─GELU: 2-12                             [16, 64, 30, 23]          --\n",
       "│    └─ConvTranspose2d: 2-13                  [16, 32, 60, 46]          18,464\n",
       "│    └─BatchNorm2d: 2-14                      [16, 32, 60, 46]          64\n",
       "│    └─GELU: 2-15                             [16, 32, 60, 46]          --\n",
       "│    └─ConvTranspose2d: 2-16                  [16, 1, 120, 92]          289\n",
       "===============================================================================================\n",
       "Total params: 219,009\n",
       "Trainable params: 219,009\n",
       "Non-trainable params: 0\n",
       "Total mult-adds (Units.GIGABYTES): 2.15\n",
       "===============================================================================================\n",
       "Input size (MB): 0.71\n",
       "Forward/backward pass size (MB): 255.77\n",
       "Params size (MB): 0.74\n",
       "Estimated Total Size (MB): 257.22\n",
       "==============================================================================================="
      ]
     },
     "execution_count": 25,
     "metadata": {},
     "output_type": "execute_result"
    }
   ],
   "source": [
    "summary(model, input_size=(16, 1, 120, 92))"
   ]
  },
  {
   "cell_type": "code",
   "execution_count": 8,
   "metadata": {
    "ExecuteTime": {
     "end_time": "2025-02-15T13:11:43.516769Z",
     "start_time": "2025-02-15T13:11:43.496769Z"
    }
   },
   "outputs": [
    {
     "name": "stderr",
     "output_type": "stream",
     "text": [
      "  0%|          | 0/100 [00:00<?, ?it/s]"
     ]
    },
    {
     "name": "stdout",
     "output_type": "stream",
     "text": [
      "torch.Size([1, 690, 64])\n"
     ]
    },
    {
     "name": "stderr",
     "output_type": "stream",
     "text": [
      "/home/lukelele/Documents/ResearchProject/TorchData/__init__.py:195: UserWarning: To copy construct from a tensor, it is recommended to use sourceTensor.clone().detach() or sourceTensor.clone().detach().requires_grad_(True), rather than torch.tensor(sourceTensor).\n",
      "  return torch.tensor(self.sn_time[idx]), torch.tensor(self.signal_time[idx])\n"
     ]
    },
    {
     "name": "stdout",
     "output_type": "stream",
     "text": [
      "torch.Size([1, 690, 64])\n",
      "torch.Size([1, 690, 64])\n",
      "torch.Size([1, 690, 64])\n",
      "torch.Size([1, 690, 64])\n",
      "torch.Size([1, 690, 64])\n",
      "torch.Size([1, 690, 64])\n",
      "torch.Size([1, 690, 64])\n",
      "torch.Size([1, 690, 64])\n",
      "torch.Size([1, 690, 64])\n",
      "torch.Size([1, 690, 64])\n",
      "torch.Size([1, 690, 64])\n",
      "torch.Size([1, 690, 64])\n",
      "torch.Size([1, 690, 64])\n",
      "torch.Size([1, 690, 64])\n",
      "torch.Size([1, 690, 64])\n",
      "torch.Size([1, 690, 64])\n",
      "torch.Size([1, 690, 64])\n",
      "torch.Size([1, 690, 64])\n"
     ]
    },
    {
     "name": "stderr",
     "output_type": "stream",
     "text": [
      "  1%|          | 1/100 [00:06<10:35,  6.42s/it]"
     ]
    },
    {
     "name": "stdout",
     "output_type": "stream",
     "text": [
      "torch.Size([1, 690, 64])\n",
      "torch.Size([1, 690, 64])\n",
      "torch.Size([1, 690, 64])\n",
      "torch.Size([1, 690, 64])\n",
      "torch.Size([1, 690, 64])\n",
      "torch.Size([1, 690, 64])\n",
      "torch.Size([1, 690, 64])\n",
      "torch.Size([1, 690, 64])\n",
      "torch.Size([1, 690, 64])\n",
      "torch.Size([1, 690, 64])\n",
      "torch.Size([1, 690, 64])\n",
      "torch.Size([1, 690, 64])\n",
      "torch.Size([1, 690, 64])\n",
      "torch.Size([1, 690, 64])\n",
      "torch.Size([1, 690, 64])\n",
      "torch.Size([1, 690, 64])\n",
      "torch.Size([1, 690, 64])\n",
      "torch.Size([1, 690, 64])\n",
      "torch.Size([1, 690, 64])\n",
      "torch.Size([1, 690, 64])\n"
     ]
    },
    {
     "name": "stderr",
     "output_type": "stream",
     "text": [
      "  2%|▏         | 2/100 [00:12<10:30,  6.44s/it]"
     ]
    },
    {
     "name": "stdout",
     "output_type": "stream",
     "text": [
      "torch.Size([1, 690, 64])\n",
      "torch.Size([1, 690, 64])\n",
      "torch.Size([1, 690, 64])\n",
      "torch.Size([1, 690, 64])\n",
      "torch.Size([1, 690, 64])\n",
      "torch.Size([1, 690, 64])\n",
      "torch.Size([1, 690, 64])\n",
      "torch.Size([1, 690, 64])\n",
      "torch.Size([1, 690, 64])\n",
      "torch.Size([1, 690, 64])\n",
      "torch.Size([1, 690, 64])\n",
      "torch.Size([1, 690, 64])\n",
      "torch.Size([1, 690, 64])\n",
      "torch.Size([1, 690, 64])\n",
      "torch.Size([1, 690, 64])\n",
      "torch.Size([1, 690, 64])\n",
      "torch.Size([1, 690, 64])\n",
      "torch.Size([1, 690, 64])\n",
      "torch.Size([1, 690, 64])\n",
      "torch.Size([1, 690, 64])\n"
     ]
    },
    {
     "name": "stderr",
     "output_type": "stream",
     "text": [
      "  3%|▎         | 3/100 [00:19<10:25,  6.45s/it]"
     ]
    },
    {
     "name": "stdout",
     "output_type": "stream",
     "text": [
      "torch.Size([1, 690, 64])\n",
      "torch.Size([1, 690, 64])\n",
      "torch.Size([1, 690, 64])\n",
      "torch.Size([1, 690, 64])\n",
      "torch.Size([1, 690, 64])\n",
      "torch.Size([1, 690, 64])\n",
      "torch.Size([1, 690, 64])\n",
      "torch.Size([1, 690, 64])\n",
      "torch.Size([1, 690, 64])\n"
     ]
    },
    {
     "name": "stderr",
     "output_type": "stream",
     "text": [
      "  3%|▎         | 3/100 [00:22<11:58,  7.41s/it]"
     ]
    },
    {
     "name": "stdout",
     "output_type": "stream",
     "text": [
      "torch.Size([1, 690, 64])\n"
     ]
    },
    {
     "name": "stderr",
     "output_type": "stream",
     "text": [
      "\n"
     ]
    },
    {
     "ename": "KeyboardInterrupt",
     "evalue": "",
     "output_type": "error",
     "traceback": [
      "\u001b[0;31m---------------------------------------------------------------------------\u001b[0m",
      "\u001b[0;31mKeyboardInterrupt\u001b[0m                         Traceback (most recent call last)",
      "Cell \u001b[0;32mIn[8], line 5\u001b[0m\n\u001b[1;32m      3\u001b[0m optimiser\u001b[38;5;241m.\u001b[39mzero_grad()\n\u001b[1;32m      4\u001b[0m outputs \u001b[38;5;241m=\u001b[39m model(sn_time\u001b[38;5;241m.\u001b[39mto(device))\n\u001b[0;32m----> 5\u001b[0m loss \u001b[38;5;241m=\u001b[39m loss_function(outputs, \u001b[43msignal_time\u001b[49m\u001b[38;5;241;43m.\u001b[39;49m\u001b[43mto\u001b[49m\u001b[43m(\u001b[49m\u001b[43mdevice\u001b[49m\u001b[43m)\u001b[49m)\n\u001b[1;32m      6\u001b[0m loss\u001b[38;5;241m.\u001b[39mbackward()\n\u001b[1;32m      7\u001b[0m optimiser\u001b[38;5;241m.\u001b[39mstep()\n",
      "\u001b[0;31mKeyboardInterrupt\u001b[0m: "
     ]
    }
   ],
   "source": [
    "for epoch in tqdm(range(100)):\n",
    "    for sn_time, signal_time in train_dataloader:\n",
    "        optimiser.zero_grad()\n",
    "        outputs = model(sn_time.to(device))\n",
    "        loss = loss_function(outputs, signal_time.to(device))\n",
    "        loss.backward()\n",
    "        optimiser.step()"
   ]
  },
  {
   "cell_type": "code",
   "execution_count": 26,
   "metadata": {
    "ExecuteTime": {
     "end_time": "2025-02-15T13:28:56.670926Z",
     "start_time": "2025-02-15T13:28:56.655555Z"
    }
   },
   "outputs": [
    {
     "data": {
      "text/plain": [
       "<All keys matched successfully>"
      ]
     },
     "execution_count": 26,
     "metadata": {},
     "output_type": "execute_result"
    }
   ],
   "source": [
    "### Using pretrained weights\n",
    "model.load_state_dict(torch.load(\"model_weights.pth\", weights_only=True))"
   ]
  },
  {
   "cell_type": "code",
   "execution_count": 29,
   "metadata": {
    "ExecuteTime": {
     "end_time": "2025-02-15T13:28:56.742428Z",
     "start_time": "2025-02-15T13:28:56.678325Z"
    }
   },
   "outputs": [],
   "source": [
    "model.eval()\n",
    "\n",
    "with torch.no_grad():\n",
    "    pred = model.to(\"cpu\")(next(iter(test_dataloader))[0].to(\"cpu\"))"
   ]
  },
  {
   "cell_type": "code",
   "execution_count": 30,
   "metadata": {
    "ExecuteTime": {
     "end_time": "2025-02-15T13:28:57.601346Z",
     "start_time": "2025-02-15T13:28:56.757602Z"
    }
   },
   "outputs": [
    {
     "data": {
      "text/plain": [
       "Text(0.5, 1.0, 'Reconstructed Image')"
      ]
     },
     "execution_count": 30,
     "metadata": {},
     "output_type": "execute_result"
    },
    {
     "data": {
      "image/png": "[encoded data removed]",
      "text/plain": [
       "<Figure size 1200x400 with 3 Axes>"
      ]
     },
     "metadata": {},
     "output_type": "display_data"
    }
   ],
   "source": [
    "fig, ax = plt.subplots(1, 3, figsize=(12, 4))\n",
    "ax[0].imshow(next(iter(test_dataloader))[0].squeeze(0).squeeze(0).to(\"cpu\"))\n",
    "ax[1].imshow(next(iter(test_dataloader))[1].squeeze(0).squeeze(0).to(\"cpu\"))\n",
    "ax[2].imshow(pred[0].squeeze(0))\n",
    "\n",
    "ax[0].set_title(\"Noisy Input\")\n",
    "ax[1].set_title(\"Original Image\")\n",
    "ax[2].set_title(\"Reconstructed Image\")"
   ]
  }
 ],
 "metadata": {
  "kernelspec": {
   "display_name": "torch",
   "language": "python",
   "name": "python3"
  },
  "language_info": {
   "codemirror_mode": {
    "name": "ipython",
    "version": 3
   },
   "file_extension": ".py",
   "mimetype": "text/x-python",
   "name": "python",
   "nbconvert_exporter": "python",
   "pygments_lexer": "ipython3",
   "version": "3.12.8"
  }
 },
 "nbformat": 4,
 "nbformat_minor": 2
}
